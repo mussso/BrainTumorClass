{
 "cells": [
  {
   "cell_type": "code",
   "execution_count": 27,
   "id": "9e75f462-047e-4638-bc41-7750e1316dd0",
   "metadata": {},
   "outputs": [],
   "source": [
    "## inputフォルダに少量データをダウンロード"
   ]
  },
  {
   "cell_type": "code",
   "execution_count": 25,
   "id": "ac2ac97b-600c-4563-a39b-e0144d78d013",
   "metadata": {},
   "outputs": [
    {
     "name": "stdout",
     "output_type": "stream",
     "text": [
      "C:\\Users\\muson\\Desktop\\pycharm\\pytorch_advanced\\BrainTumorClass\n"
     ]
    }
   ],
   "source": [
    "## weightフォルダにpretrained weightをダウンロード"
   ]
  },
  {
   "cell_type": "code",
   "execution_count": null,
   "id": "78237248-f4bc-423b-bd20-a68b4933fdb7",
   "metadata": {},
   "outputs": [],
   "source": [
    "## DataSetの作成"
   ]
  },
  {
   "cell_type": "code",
   "execution_count": null,
   "id": "000b83cc-97d2-4713-b395-2a8ce1c79179",
   "metadata": {},
   "outputs": [],
   "source": [
    "## DataLoaderの作成"
   ]
  },
  {
   "cell_type": "code",
   "execution_count": null,
   "id": "09d0bbb2-5c88-4742-a5ae-5d97d779fefc",
   "metadata": {},
   "outputs": [],
   "source": [
    "## DataTransformerの作成"
   ]
  },
  {
   "cell_type": "code",
   "execution_count": null,
   "id": "bef33720-4c88-4f24-a389-7df917c36495",
   "metadata": {},
   "outputs": [],
   "source": [
    "## Modelの作成"
   ]
  },
  {
   "cell_type": "code",
   "execution_count": null,
   "id": "ec7b40a6-97cb-4644-ae24-a113ad8ed941",
   "metadata": {},
   "outputs": [],
   "source": [
    "## 損失関数、optimizer作成"
   ]
  },
  {
   "cell_type": "code",
   "execution_count": null,
   "id": "f7bf1cbe-8608-4c77-99b6-abd9c838a3b7",
   "metadata": {},
   "outputs": [],
   "source": [
    "## 学習"
   ]
  },
  {
   "cell_type": "code",
   "execution_count": null,
   "id": "680289c8-291e-4107-9231-9221eaaaf098",
   "metadata": {},
   "outputs": [],
   "source": [
    "## 推論"
   ]
  },
  {
   "cell_type": "code",
   "execution_count": null,
   "id": "64647fa8-6b1f-4c4f-9eb7-840fc1e898be",
   "metadata": {},
   "outputs": [],
   "source": [
    "##　各モデルをアンサンブル"
   ]
  },
  {
   "cell_type": "code",
   "execution_count": null,
   "id": "5011b918-d871-40a9-bf0a-9d9e8ca7a4cd",
   "metadata": {},
   "outputs": [],
   "source": [
    "## outputフォルダにsubmission csvを格納"
   ]
  }
 ],
 "metadata": {
  "kernelspec": {
   "display_name": "Python 3.8 (XPython)",
   "language": "python",
   "name": "xpython"
  },
  "language_info": {
   "file_extension": ".py",
   "mimetype": "text/x-python",
   "name": "python",
   "version": "3.8.10"
  }
 },
 "nbformat": 4,
 "nbformat_minor": 5
}
